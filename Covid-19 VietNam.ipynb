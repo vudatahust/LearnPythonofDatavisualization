{
 "cells": [
  {
   "cell_type": "markdown",
   "id": "8054010a",
   "metadata": {},
   "source": [
    "# Dự án phân tích số liệu các ca bệnh Covid-19 tại Việt Nam"
   ]
  },
  {
   "cell_type": "markdown",
   "id": "4e21455f",
   "metadata": {},
   "source": [
    "## 1. Giới thiệu"
   ]
  },
  {
   "cell_type": "markdown",
   "id": "65d2c0bc",
   "metadata": {},
   "source": [
    "Covid-19 hay là Corona Virus phát hiện lần đầu tiên tại Vũ Hán trung Quốc và được thông báo về trường hợp đầu tiên vào ngày 31/12/2019, và sau đó là hàng loạt các quốc gia đã có thông báo về các ca bệnh Covid 19 như Mỹ, Anh, Hàn Quốc... \n",
    " Trong đó Việt Nam đã được báo cáo các ca mắc đầu tiên."
   ]
  },
  {
   "cell_type": "markdown",
   "id": "5b51c391",
   "metadata": {},
   "source": [
    "Đến tháng 5 năm 2020 Việt Nam đã ghi nhận 270 trường hợp lây nhiễm"
   ]
  },
  {
   "cell_type": "markdown",
   "id": "ca8f4cf0",
   "metadata": {},
   "source": [
    "Một điều đáng chú ý ở Việt Nam là luật về việc đi lại, di chuyển và tiếp xúc không khắt khe như ở Mỹ, Canada hay EU. Do đó, dữ liệu bệnh nhân COVID-19 tại Việt Nam được công bố rộng rãi. \n",
    "(Để minh bạch và hiệu quả hơn trong nhiệm vụ truy tìm liên lạc COVID-19, dữ liệu đưa ra phân tích bệnh nhân COVID-19 của Việt Nam được công bố công khai trên trang web của Bộ Y tế Việt Nam và trên báo chí.)\n",
    "\n",
    "Tôi hi vọng phân tích này sẽ cung cấp cho bạn một số ý tưởng về phân tích dữ liệu về dịch bệnh nói chung và Covid 19 nói riêng"
   ]
  },
  {
   "cell_type": "markdown",
   "id": "58dfb1bb",
   "metadata": {},
   "source": [
    "## 2. Nguồn dữ liệu"
   ]
  },
  {
   "cell_type": "markdown",
   "id": "4458fc8f",
   "metadata": {},
   "source": [
    "Dữ liệu được thu thập bằng cách thu thập dữ liệu web của Bộ Y tế Việt Nam (https://ncov.moh.gov.vn/) và các phương tiện truyền thông chính thống khác tại Việt Nam ( có dẫn kèm theo link)"
   ]
  },
  {
   "cell_type": "markdown",
   "id": "e7fc954e",
   "metadata": {},
   "source": [
    "## 3. Mục tiêu phân tích"
   ]
  },
  {
   "cell_type": "markdown",
   "id": "9e25a474",
   "metadata": {},
   "source": [
    "#### 3.1 Mục tiêu phân tích dịch bệnh\n",
    "1. Tỷ lệ mắc covid giữa Nam và Nữ\n",
    "2. Độ tuổi trung bình mắc covid tại Việt Nam\n",
    "3. Số người nước ngoài mắc covid tại Việt Nam\n",
    "4. Tính riêng cho các công dân việt nam nhiễm COVID, tỉnh nào có nhiều ca mắc nhất, mô tả theo dòng thời gian của 3 tỉnh cao nhất: \n",
    "    - 4.1 Số ca nhiễm mỗi các tỉnh\n",
    "    - 4.2 Số ca chuyển biến nặng là\n",
    "    - 4.3 Số ca đỉnh điểm trong ngày\n",
    "    - 4.4 Số ngày điều trị\n",
    "5. Kết luận đưa ra đánh giá chung\n"
   ]
  },
  {
   "cell_type": "markdown",
   "id": "79b0b2d7",
   "metadata": {},
   "source": [
    "#### 3.2 Các kỹ năng phân tích dữ liệu được sử dụng\n",
    "1. Làm sạch dữ liệu\n",
    "2. Tách dữ liệu ra các bảng để phân tích sâu\n",
    "3. Chuyển đổi loại dữ liệu\n",
    "4. Xử lý giá trị NULL\n",
    "5. Trực quan hóa dữ liệu"
   ]
  },
  {
   "cell_type": "markdown",
   "id": "6bf039dd",
   "metadata": {},
   "source": [
    "#### 3.3 Các FameWorks và thư viện sử dụng\n",
    "1. Numpy\n",
    "2. Pandas\n",
    "3. Matplotlib\n",
    "4. Seaborn"
   ]
  },
  {
   "cell_type": "code",
   "execution_count": 61,
   "id": "a4080289",
   "metadata": {},
   "outputs": [],
   "source": [
    "# Thiết lập môi trường\n",
    "import pandas as pd\n",
    "import numpy as np\n",
    "import matplotlib.pyplot as plt"
   ]
  },
  {
   "cell_type": "code",
   "execution_count": 62,
   "id": "7610dac4",
   "metadata": {},
   "outputs": [],
   "source": [
    "import seaborn as sns\n",
    "import warnings"
   ]
  },
  {
   "cell_type": "code",
   "execution_count": 63,
   "id": "6c513e72",
   "metadata": {},
   "outputs": [],
   "source": [
    "from datetime import datetime"
   ]
  },
  {
   "cell_type": "code",
   "execution_count": 64,
   "id": "25f391aa",
   "metadata": {},
   "outputs": [],
   "source": [
    "# Tải dữ liệu lên để phân tích\n",
    "df = pd.read_csv(\"Vietnam_COVID-19_patient_data_May10_2020.csv\")"
   ]
  },
  {
   "cell_type": "code",
   "execution_count": 5,
   "id": "23039297",
   "metadata": {},
   "outputs": [
    {
     "data": {
      "text/html": [
       "<div>\n",
       "<style scoped>\n",
       "    .dataframe tbody tr th:only-of-type {\n",
       "        vertical-align: middle;\n",
       "    }\n",
       "\n",
       "    .dataframe tbody tr th {\n",
       "        vertical-align: top;\n",
       "    }\n",
       "\n",
       "    .dataframe thead th {\n",
       "        text-align: right;\n",
       "    }\n",
       "</style>\n",
       "<table border=\"1\" class=\"dataframe\">\n",
       "  <thead>\n",
       "    <tr style=\"text-align: right;\">\n",
       "      <th></th>\n",
       "      <th>ID</th>\n",
       "      <th>Gender</th>\n",
       "      <th>Age</th>\n",
       "      <th>Nationality</th>\n",
       "      <th>Detection Location</th>\n",
       "      <th>Treatment Location</th>\n",
       "      <th>Hospital</th>\n",
       "      <th>Confirmed Date</th>\n",
       "      <th>Travel History</th>\n",
       "      <th>Travel Country</th>\n",
       "      <th>...</th>\n",
       "      <th>Discharged Date</th>\n",
       "      <th>Re-Infected</th>\n",
       "      <th>Re-discharged</th>\n",
       "      <th>Reference 1</th>\n",
       "      <th>Reference 2</th>\n",
       "      <th>Reference 3</th>\n",
       "      <th>Reference 4</th>\n",
       "      <th>Reference 5</th>\n",
       "      <th>Note</th>\n",
       "      <th>Number of negative test before discharged</th>\n",
       "    </tr>\n",
       "  </thead>\n",
       "  <tbody>\n",
       "    <tr>\n",
       "      <th>0</th>\n",
       "      <td>BN1</td>\n",
       "      <td>M</td>\n",
       "      <td>66.0</td>\n",
       "      <td>China</td>\n",
       "      <td>Ho Chi Minh City</td>\n",
       "      <td>Ho Chi Minh City</td>\n",
       "      <td>Bệnh viện Chợ Rẫy</td>\n",
       "      <td>1/23/20</td>\n",
       "      <td>1</td>\n",
       "      <td>Wuhan(China)</td>\n",
       "      <td>...</td>\n",
       "      <td>2/12/20</td>\n",
       "      <td>NaN</td>\n",
       "      <td>NaN</td>\n",
       "      <td>https://vnexpress.net/dich-viem-phoi-corona/ha...</td>\n",
       "      <td>NaN</td>\n",
       "      <td>NaN</td>\n",
       "      <td>NaN</td>\n",
       "      <td>NaN</td>\n",
       "      <td>NaN</td>\n",
       "      <td>NaN</td>\n",
       "    </tr>\n",
       "    <tr>\n",
       "      <th>1</th>\n",
       "      <td>BN2</td>\n",
       "      <td>M</td>\n",
       "      <td>28.0</td>\n",
       "      <td>China</td>\n",
       "      <td>Ho Chi Minh City</td>\n",
       "      <td>Ho Chi Minh City</td>\n",
       "      <td>Bệnh viện Chợ Rẫy</td>\n",
       "      <td>1/23/20</td>\n",
       "      <td>0</td>\n",
       "      <td>NaN</td>\n",
       "      <td>...</td>\n",
       "      <td>2/4/20</td>\n",
       "      <td>NaN</td>\n",
       "      <td>NaN</td>\n",
       "      <td>NaN</td>\n",
       "      <td>NaN</td>\n",
       "      <td>NaN</td>\n",
       "      <td>NaN</td>\n",
       "      <td>NaN</td>\n",
       "      <td>NaN</td>\n",
       "      <td>NaN</td>\n",
       "    </tr>\n",
       "    <tr>\n",
       "      <th>2</th>\n",
       "      <td>BN3</td>\n",
       "      <td>F</td>\n",
       "      <td>25.0</td>\n",
       "      <td>Vietnam</td>\n",
       "      <td>Thanh Hoa</td>\n",
       "      <td>Thanh Hoa</td>\n",
       "      <td>Bệnh viện đa khoa tỉnh Thanh Hóa</td>\n",
       "      <td>1/30/20</td>\n",
       "      <td>1</td>\n",
       "      <td>Wuhan(China)</td>\n",
       "      <td>...</td>\n",
       "      <td>(Feb 2020, no exact date)</td>\n",
       "      <td>NaN</td>\n",
       "      <td>NaN</td>\n",
       "      <td>https://vnexpress.net/dich-viem-phoi-corona/ba...</td>\n",
       "      <td>NaN</td>\n",
       "      <td>NaN</td>\n",
       "      <td>NaN</td>\n",
       "      <td>NaN</td>\n",
       "      <td>NaN</td>\n",
       "      <td>NaN</td>\n",
       "    </tr>\n",
       "    <tr>\n",
       "      <th>3</th>\n",
       "      <td>BN4</td>\n",
       "      <td>M</td>\n",
       "      <td>29.0</td>\n",
       "      <td>Vietnam</td>\n",
       "      <td>Vinh Phuc</td>\n",
       "      <td>Vinh Phuc</td>\n",
       "      <td>Bệnh viện Bệnh Nhiệt đới Trung Ương (cơ sở Đôn...</td>\n",
       "      <td>1/30/20</td>\n",
       "      <td>1</td>\n",
       "      <td>Wuhan(China)</td>\n",
       "      <td>...</td>\n",
       "      <td>2/18/20</td>\n",
       "      <td>NaN</td>\n",
       "      <td>NaN</td>\n",
       "      <td>https://vnexpress.net/dich-viem-phoi-corona/ba...</td>\n",
       "      <td>https://vnexpress.net/suc-khoe/hai-benh-nhan-c...</td>\n",
       "      <td>https://bnews.vn/dich-do-virus-corona-them-2-b...</td>\n",
       "      <td>NaN</td>\n",
       "      <td>NaN</td>\n",
       "      <td>NaN</td>\n",
       "      <td>NaN</td>\n",
       "    </tr>\n",
       "    <tr>\n",
       "      <th>4</th>\n",
       "      <td>BN5</td>\n",
       "      <td>F</td>\n",
       "      <td>23.0</td>\n",
       "      <td>Vietnam</td>\n",
       "      <td>Vinh Phuc</td>\n",
       "      <td>Vinh Phuc</td>\n",
       "      <td>Bệnh viện Bệnh nhiệt đới Trung Ương (cơ sở 2)</td>\n",
       "      <td>1/30/20</td>\n",
       "      <td>1</td>\n",
       "      <td>Wuhan(China)</td>\n",
       "      <td>...</td>\n",
       "      <td>2/10/20</td>\n",
       "      <td>NaN</td>\n",
       "      <td>NaN</td>\n",
       "      <td>https://vnexpress.net/dich-viem-phoi-corona/ba...</td>\n",
       "      <td>NaN</td>\n",
       "      <td>NaN</td>\n",
       "      <td>NaN</td>\n",
       "      <td>NaN</td>\n",
       "      <td>NaN</td>\n",
       "      <td>NaN</td>\n",
       "    </tr>\n",
       "  </tbody>\n",
       "</table>\n",
       "<p>5 rows × 30 columns</p>\n",
       "</div>"
      ],
      "text/plain": [
       "    ID Gender   Age Nationality Detection Location Treatment Location  \\\n",
       "0  BN1      M  66.0       China   Ho Chi Minh City   Ho Chi Minh City   \n",
       "1  BN2      M  28.0       China   Ho Chi Minh City   Ho Chi Minh City   \n",
       "2  BN3      F  25.0     Vietnam          Thanh Hoa          Thanh Hoa   \n",
       "3  BN4      M  29.0     Vietnam          Vinh Phuc          Vinh Phuc   \n",
       "4  BN5      F  23.0     Vietnam          Vinh Phuc          Vinh Phuc   \n",
       "\n",
       "                                            Hospital Confirmed Date  \\\n",
       "0                                  Bệnh viện Chợ Rẫy        1/23/20   \n",
       "1                                  Bệnh viện Chợ Rẫy        1/23/20   \n",
       "2                   Bệnh viện đa khoa tỉnh Thanh Hóa        1/30/20   \n",
       "3  Bệnh viện Bệnh Nhiệt đới Trung Ương (cơ sở Đôn...        1/30/20   \n",
       "4      Bệnh viện Bệnh nhiệt đới Trung Ương (cơ sở 2)        1/30/20   \n",
       "\n",
       "   Travel History Travel Country  ...            Discharged Date Re-Infected  \\\n",
       "0               1   Wuhan(China)  ...                    2/12/20         NaN   \n",
       "1               0            NaN  ...                     2/4/20         NaN   \n",
       "2               1   Wuhan(China)  ...  (Feb 2020, no exact date)         NaN   \n",
       "3               1   Wuhan(China)  ...                    2/18/20         NaN   \n",
       "4               1   Wuhan(China)  ...                    2/10/20         NaN   \n",
       "\n",
       "  Re-discharged                                        Reference 1  \\\n",
       "0           NaN  https://vnexpress.net/dich-viem-phoi-corona/ha...   \n",
       "1           NaN                                                NaN   \n",
       "2           NaN  https://vnexpress.net/dich-viem-phoi-corona/ba...   \n",
       "3           NaN  https://vnexpress.net/dich-viem-phoi-corona/ba...   \n",
       "4           NaN  https://vnexpress.net/dich-viem-phoi-corona/ba...   \n",
       "\n",
       "                                         Reference 2  \\\n",
       "0                                                NaN   \n",
       "1                                                NaN   \n",
       "2                                                NaN   \n",
       "3  https://vnexpress.net/suc-khoe/hai-benh-nhan-c...   \n",
       "4                                                NaN   \n",
       "\n",
       "                                         Reference 3 Reference 4 Reference 5  \\\n",
       "0                                                NaN         NaN         NaN   \n",
       "1                                                NaN         NaN         NaN   \n",
       "2                                                NaN         NaN         NaN   \n",
       "3  https://bnews.vn/dich-do-virus-corona-them-2-b...         NaN         NaN   \n",
       "4                                                NaN         NaN         NaN   \n",
       "\n",
       "  Note Number of negative test before discharged  \n",
       "0  NaN                                       NaN  \n",
       "1  NaN                                       NaN  \n",
       "2  NaN                                       NaN  \n",
       "3  NaN                                       NaN  \n",
       "4  NaN                                       NaN  \n",
       "\n",
       "[5 rows x 30 columns]"
      ]
     },
     "execution_count": 5,
     "metadata": {},
     "output_type": "execute_result"
    }
   ],
   "source": [
    "df.head()"
   ]
  },
  {
   "cell_type": "markdown",
   "id": "55883afe",
   "metadata": {},
   "source": [
    "### 1. Tỷ lệ mắc covid nữa Nam và Nữ"
   ]
  },
  {
   "cell_type": "code",
   "execution_count": 65,
   "id": "f2fe2aa6",
   "metadata": {},
   "outputs": [],
   "source": [
    "df[\"Gender\"].value_counts()\n",
    "gender = [158,130]"
   ]
  },
  {
   "cell_type": "code",
   "execution_count": 7,
   "id": "5c756064",
   "metadata": {},
   "outputs": [
    {
     "data": {
      "image/png": "[encoded data removed]",
      "text/plain": [
       "<Figure size 720x504 with 1 Axes>"
      ]
     },
     "metadata": {},
     "output_type": "display_data"
    }
   ],
   "source": [
    "df['Gender'].value_counts().plot.pie(figsize = (10,7) ,title='Tỉ lệ nam nữ nhiễm Covid tại việt nam 2020',\n",
    "                                     labels = {'Nam','Nữ'});"
   ]
  },
  {
   "cell_type": "code",
   "execution_count": 8,
   "id": "4c0d6537",
   "metadata": {},
   "outputs": [
    {
     "data": {
      "text/plain": [
       "ID                                             0\n",
       "Gender                                         0\n",
       "Age                                            0\n",
       "Nationality                                    0\n",
       "Detection Location                             0\n",
       "Treatment Location                             0\n",
       "Hospital                                       0\n",
       "Confirmed Date                                 0\n",
       "Travel History                                 0\n",
       "Travel Country                               104\n",
       "Travel Country, Correct                      113\n",
       "Source of Infection                          208\n",
       "Relationship                                 186\n",
       "Flight ID (Date)                             115\n",
       "Infection Cluster                            154\n",
       "Health Condition When Confirmed                0\n",
       "Detail Symptoms When Confirmed (clean up)    202\n",
       "Detail Symptoms When Confirmed                 0\n",
       "Developing Symptoms                          275\n",
       "Underlying Health Condition                  279\n",
       "Discharged Date                               67\n",
       "Re-Infected                                  272\n",
       "Re-discharged                                286\n",
       "Reference 1                                   12\n",
       "Reference 2                                  137\n",
       "Reference 3                                  269\n",
       "Reference 4                                  285\n",
       "Reference 5                                  287\n",
       "Note                                         280\n",
       "Number of negative test before discharged    285\n",
       "dtype: int64"
      ]
     },
     "execution_count": 8,
     "metadata": {},
     "output_type": "execute_result"
    }
   ],
   "source": [
    "df.isnull().sum()"
   ]
  },
  {
   "cell_type": "markdown",
   "id": "e9146ef4",
   "metadata": {},
   "source": [
    "### 2. Độ tuổi trung bình mắc covid tại VN"
   ]
  },
  {
   "cell_type": "code",
   "execution_count": 9,
   "id": "99762b1d",
   "metadata": {},
   "outputs": [
    {
     "data": {
      "text/plain": [
       "dtype('float64')"
      ]
     },
     "execution_count": 9,
     "metadata": {},
     "output_type": "execute_result"
    }
   ],
   "source": [
    "df['Age'].dtype"
   ]
  },
  {
   "cell_type": "code",
   "execution_count": 10,
   "id": "6ef9c162",
   "metadata": {},
   "outputs": [],
   "source": [
    "df['Age'] = df['Age'].astype(int)"
   ]
  },
  {
   "cell_type": "code",
   "execution_count": 11,
   "id": "bad9b558",
   "metadata": {},
   "outputs": [
    {
     "data": {
      "text/plain": [
       "dtype('int32')"
      ]
     },
     "execution_count": 11,
     "metadata": {},
     "output_type": "execute_result"
    }
   ],
   "source": [
    "df['Age'].dtype"
   ]
  },
  {
   "cell_type": "code",
   "execution_count": 12,
   "id": "eef07194",
   "metadata": {},
   "outputs": [
    {
     "data": {
      "text/html": [
       "<div>\n",
       "<style scoped>\n",
       "    .dataframe tbody tr th:only-of-type {\n",
       "        vertical-align: middle;\n",
       "    }\n",
       "\n",
       "    .dataframe tbody tr th {\n",
       "        vertical-align: top;\n",
       "    }\n",
       "\n",
       "    .dataframe thead th {\n",
       "        text-align: right;\n",
       "    }\n",
       "</style>\n",
       "<table border=\"1\" class=\"dataframe\">\n",
       "  <thead>\n",
       "    <tr style=\"text-align: right;\">\n",
       "      <th></th>\n",
       "      <th>Age</th>\n",
       "      <th>Travel History</th>\n",
       "    </tr>\n",
       "  </thead>\n",
       "  <tbody>\n",
       "    <tr>\n",
       "      <th>count</th>\n",
       "      <td>288.000000</td>\n",
       "      <td>288.000000</td>\n",
       "    </tr>\n",
       "    <tr>\n",
       "      <th>mean</th>\n",
       "      <td>35.447917</td>\n",
       "      <td>0.638889</td>\n",
       "    </tr>\n",
       "    <tr>\n",
       "      <th>std</th>\n",
       "      <td>15.698956</td>\n",
       "      <td>0.481159</td>\n",
       "    </tr>\n",
       "    <tr>\n",
       "      <th>min</th>\n",
       "      <td>0.000000</td>\n",
       "      <td>0.000000</td>\n",
       "    </tr>\n",
       "    <tr>\n",
       "      <th>25%</th>\n",
       "      <td>23.000000</td>\n",
       "      <td>0.000000</td>\n",
       "    </tr>\n",
       "    <tr>\n",
       "      <th>50%</th>\n",
       "      <td>30.000000</td>\n",
       "      <td>1.000000</td>\n",
       "    </tr>\n",
       "    <tr>\n",
       "      <th>75%</th>\n",
       "      <td>47.000000</td>\n",
       "      <td>1.000000</td>\n",
       "    </tr>\n",
       "    <tr>\n",
       "      <th>max</th>\n",
       "      <td>88.000000</td>\n",
       "      <td>1.000000</td>\n",
       "    </tr>\n",
       "  </tbody>\n",
       "</table>\n",
       "</div>"
      ],
      "text/plain": [
       "              Age  Travel History\n",
       "count  288.000000      288.000000\n",
       "mean    35.447917        0.638889\n",
       "std     15.698956        0.481159\n",
       "min      0.000000        0.000000\n",
       "25%     23.000000        0.000000\n",
       "50%     30.000000        1.000000\n",
       "75%     47.000000        1.000000\n",
       "max     88.000000        1.000000"
      ]
     },
     "execution_count": 12,
     "metadata": {},
     "output_type": "execute_result"
    }
   ],
   "source": [
    "df.describe()"
   ]
  },
  {
   "cell_type": "code",
   "execution_count": 13,
   "id": "884fe74b",
   "metadata": {},
   "outputs": [
    {
     "name": "stderr",
     "output_type": "stream",
     "text": [
      "C:\\Users\\dell\\anaconda3\\lib\\site-packages\\seaborn\\distributions.py:2557: FutureWarning: `distplot` is a deprecated function and will be removed in a future version. Please adapt your code to use either `displot` (a figure-level function with similar flexibility) or `histplot` (an axes-level function for histograms).\n",
      "  warnings.warn(msg, FutureWarning)\n"
     ]
    },
    {
     "data": {
      "image/png": "[encoded data removed]",
      "text/plain": [
       "<Figure size 720x504 with 1 Axes>"
      ]
     },
     "metadata": {
      "needs_background": "light"
     },
     "output_type": "display_data"
    }
   ],
   "source": [
    "plt.figure( figsize = (10,7))\n",
    "sns.distplot( df[\"Age\"] ,color = 'orange', bins = 50);\n",
    "plt.title(' Phân bố độ tuổi nhiễm covid-19 ở Việt Nam')\n",
    "plt.show()"
   ]
  },
  {
   "cell_type": "code",
   "execution_count": 14,
   "id": "8407996f",
   "metadata": {},
   "outputs": [
    {
     "data": {
      "image/png": "[encoded data removed]",
      "text/plain": [
       "<Figure size 720x720 with 1 Axes>"
      ]
     },
     "metadata": {
      "needs_background": "light"
     },
     "output_type": "display_data"
    }
   ],
   "source": [
    "plt.figure( figsize = (10,10))\n",
    "sns.histplot( df[\"Age\"]);"
   ]
  },
  {
   "cell_type": "markdown",
   "id": "7eb2ac0f",
   "metadata": {},
   "source": [
    "### 3. Số người nước ngoài mắc covid tại Việt Nam"
   ]
  },
  {
   "cell_type": "code",
   "execution_count": 15,
   "id": "9232b627",
   "metadata": {},
   "outputs": [
    {
     "data": {
      "text/plain": [
       "Vietnam           237\n",
       "United Kingdom     21\n",
       "Brazil              6\n",
       "USA                 5\n",
       "Germany             4\n",
       "Name: Nationality, dtype: int64"
      ]
     },
     "execution_count": 15,
     "metadata": {},
     "output_type": "execute_result"
    }
   ],
   "source": [
    "df[\"Nationality\"].value_counts().head()"
   ]
  },
  {
   "cell_type": "code",
   "execution_count": 16,
   "id": "fb6bd7d1",
   "metadata": {},
   "outputs": [],
   "source": [
    "nuocngoai =df.loc [df['Nationality'] != 'Vietnam']\n",
    "trongnuoc =df.loc [df['Nationality'] == 'Vietnam']"
   ]
  },
  {
   "cell_type": "code",
   "execution_count": 17,
   "id": "643de76e",
   "metadata": {},
   "outputs": [],
   "source": [
    "df1 = [len(nuocngoai), len(trongnuoc)]\n",
    "labels = ['Ngoài Nước','Trong Nước']"
   ]
  },
  {
   "cell_type": "code",
   "execution_count": 18,
   "id": "a2d383eb",
   "metadata": {},
   "outputs": [
    {
     "data": {
      "text/plain": [
       "[51, 237]"
      ]
     },
     "execution_count": 18,
     "metadata": {},
     "output_type": "execute_result"
    }
   ],
   "source": [
    "df1"
   ]
  },
  {
   "cell_type": "code",
   "execution_count": 19,
   "id": "50727814",
   "metadata": {},
   "outputs": [
    {
     "data": {
      "text/plain": [
       "Text(0.5, 1.0, 'Tỉ lệ người việt nam và nước ngoài nhiễm covid tại VN')"
      ]
     },
     "execution_count": 19,
     "metadata": {},
     "output_type": "execute_result"
    },
    {
     "data": {
      "image/png": "[encoded data removed]",
      "text/plain": [
       "<Figure size 504x504 with 1 Axes>"
      ]
     },
     "metadata": {},
     "output_type": "display_data"
    }
   ],
   "source": [
    "fig, ax = plt.subplots(figsize = (7,7))\n",
    "ax.pie( df1, labels = labels, autopct='%1.1f%%',\n",
    "        shadow=False,explode = (0, 0.14), startangle=90);\n",
    "plt.title('Tỉ lệ người việt nam và nước ngoài nhiễm covid tại VN')"
   ]
  },
  {
   "cell_type": "code",
   "execution_count": 20,
   "id": "f7119dda",
   "metadata": {},
   "outputs": [
    {
     "data": {
      "text/plain": [
       "Hanoi               99\n",
       "Ho Chi Minh City    32\n",
       "Vinh Phuc           19\n",
       "Can Tho             19\n",
       "Ninh Binh           13\n",
       "Binh Thuan           9\n",
       "Dong Thap            4\n",
       "Ha Tinh              4\n",
       "Thanh Hoa            3\n",
       "Tra Vinh             3\n",
       "Bac Lieu             3\n",
       "Tay Ninh             3\n",
       "Da Nang              3\n",
       "Ha Nam               3\n",
       "Bac Giang            3\n",
       "Hai Duong            2\n",
       "Ninh Thuan           2\n",
       "Lai Chau             2\n",
       "Quang Ninh           2\n",
       "Thai Binh            2\n",
       "Hung Yen             1\n",
       "Thai Nguyen          1\n",
       "Ha Giang             1\n",
       "Dong Nai             1\n",
       "Ben Tre              1\n",
       "Bac Ninh             1\n",
       "Khanh Hoa            1\n",
       "Name: Detection Location, dtype: int64"
      ]
     },
     "execution_count": 20,
     "metadata": {},
     "output_type": "execute_result"
    }
   ],
   "source": [
    "trongnuoc[\"Detection Location\"].value_counts()"
   ]
  },
  {
   "cell_type": "markdown",
   "id": "a5c5758b",
   "metadata": {},
   "source": [
    "### 4 .Tính riêng cho các công dân việt nam nhiễm COVID"
   ]
  },
  {
   "cell_type": "markdown",
   "id": "cc1d084b",
   "metadata": {},
   "source": [
    "#### 4.1 Số ca nhiễm mỗi các tỉnh"
   ]
  },
  {
   "cell_type": "code",
   "execution_count": 21,
   "id": "bca91a60",
   "metadata": {},
   "outputs": [],
   "source": [
    "bangthongketrongnuoc =pd.DataFrame(trongnuoc['Detection Location'].value_counts().sort_values(ascending=False))"
   ]
  },
  {
   "cell_type": "code",
   "execution_count": 22,
   "id": "9652a77d",
   "metadata": {},
   "outputs": [],
   "source": [
    "bangthongketrongnuoc.rename(columns = {'Detection Location':'So Ca Nhiem'},inplace=True)"
   ]
  },
  {
   "cell_type": "code",
   "execution_count": 23,
   "id": "608fe526",
   "metadata": {},
   "outputs": [
    {
     "data": {
      "text/html": [
       "<div>\n",
       "<style scoped>\n",
       "    .dataframe tbody tr th:only-of-type {\n",
       "        vertical-align: middle;\n",
       "    }\n",
       "\n",
       "    .dataframe tbody tr th {\n",
       "        vertical-align: top;\n",
       "    }\n",
       "\n",
       "    .dataframe thead th {\n",
       "        text-align: right;\n",
       "    }\n",
       "</style>\n",
       "<table border=\"1\" class=\"dataframe\">\n",
       "  <thead>\n",
       "    <tr style=\"text-align: right;\">\n",
       "      <th></th>\n",
       "      <th>So Ca Nhiem</th>\n",
       "    </tr>\n",
       "  </thead>\n",
       "  <tbody>\n",
       "    <tr>\n",
       "      <th>Hanoi</th>\n",
       "      <td>99</td>\n",
       "    </tr>\n",
       "    <tr>\n",
       "      <th>Ho Chi Minh City</th>\n",
       "      <td>32</td>\n",
       "    </tr>\n",
       "    <tr>\n",
       "      <th>Vinh Phuc</th>\n",
       "      <td>19</td>\n",
       "    </tr>\n",
       "    <tr>\n",
       "      <th>Can Tho</th>\n",
       "      <td>19</td>\n",
       "    </tr>\n",
       "    <tr>\n",
       "      <th>Ninh Binh</th>\n",
       "      <td>13</td>\n",
       "    </tr>\n",
       "    <tr>\n",
       "      <th>Binh Thuan</th>\n",
       "      <td>9</td>\n",
       "    </tr>\n",
       "    <tr>\n",
       "      <th>Dong Thap</th>\n",
       "      <td>4</td>\n",
       "    </tr>\n",
       "    <tr>\n",
       "      <th>Ha Tinh</th>\n",
       "      <td>4</td>\n",
       "    </tr>\n",
       "    <tr>\n",
       "      <th>Tay Ninh</th>\n",
       "      <td>3</td>\n",
       "    </tr>\n",
       "    <tr>\n",
       "      <th>Bac Giang</th>\n",
       "      <td>3</td>\n",
       "    </tr>\n",
       "  </tbody>\n",
       "</table>\n",
       "</div>"
      ],
      "text/plain": [
       "                  So Ca Nhiem\n",
       "Hanoi                      99\n",
       "Ho Chi Minh City           32\n",
       "Vinh Phuc                  19\n",
       "Can Tho                    19\n",
       "Ninh Binh                  13\n",
       "Binh Thuan                  9\n",
       "Dong Thap                   4\n",
       "Ha Tinh                     4\n",
       "Tay Ninh                    3\n",
       "Bac Giang                   3"
      ]
     },
     "execution_count": 23,
     "metadata": {},
     "output_type": "execute_result"
    }
   ],
   "source": [
    "bangthongketrongnuoc.head(10)"
   ]
  },
  {
   "cell_type": "code",
   "execution_count": 24,
   "id": "8f5e786a",
   "metadata": {},
   "outputs": [
    {
     "data": {
      "text/plain": [
       "array([nan, '5', '4', '9 times negative/positive'], dtype=object)"
      ]
     },
     "execution_count": 24,
     "metadata": {},
     "output_type": "execute_result"
    }
   ],
   "source": [
    "trongnuoc[\"Number of negative test before discharged\"].unique()"
   ]
  },
  {
   "cell_type": "code",
   "execution_count": 25,
   "id": "c7a59ac2",
   "metadata": {},
   "outputs": [
    {
     "data": {
      "text/plain": [
       "3"
      ]
     },
     "execution_count": 25,
     "metadata": {},
     "output_type": "execute_result"
    }
   ],
   "source": [
    "# tính số ca chuyển biến nặng\n",
    "trongnuoc[\"Number of negative test before discharged\"].value_counts().sum()"
   ]
  },
  {
   "cell_type": "markdown",
   "id": "06bc042b",
   "metadata": {},
   "source": [
    "#### 4.2 Số ca chuyển biến nặng là:"
   ]
  },
  {
   "cell_type": "code",
   "execution_count": 26,
   "id": "88236605",
   "metadata": {},
   "outputs": [
    {
     "data": {
      "text/html": [
       "<div>\n",
       "<style scoped>\n",
       "    .dataframe tbody tr th:only-of-type {\n",
       "        vertical-align: middle;\n",
       "    }\n",
       "\n",
       "    .dataframe tbody tr th {\n",
       "        vertical-align: top;\n",
       "    }\n",
       "\n",
       "    .dataframe thead th {\n",
       "        text-align: right;\n",
       "    }\n",
       "</style>\n",
       "<table border=\"1\" class=\"dataframe\">\n",
       "  <thead>\n",
       "    <tr style=\"text-align: right;\">\n",
       "      <th></th>\n",
       "      <th>ID</th>\n",
       "      <th>Gender</th>\n",
       "      <th>Age</th>\n",
       "      <th>Nationality</th>\n",
       "      <th>Detection Location</th>\n",
       "      <th>Treatment Location</th>\n",
       "      <th>Hospital</th>\n",
       "      <th>Confirmed Date</th>\n",
       "      <th>Travel History</th>\n",
       "      <th>Travel Country</th>\n",
       "      <th>...</th>\n",
       "      <th>Discharged Date</th>\n",
       "      <th>Re-Infected</th>\n",
       "      <th>Re-discharged</th>\n",
       "      <th>Reference 1</th>\n",
       "      <th>Reference 2</th>\n",
       "      <th>Reference 3</th>\n",
       "      <th>Reference 4</th>\n",
       "      <th>Reference 5</th>\n",
       "      <th>Note</th>\n",
       "      <th>Number of negative test before discharged</th>\n",
       "    </tr>\n",
       "  </thead>\n",
       "  <tbody>\n",
       "    <tr>\n",
       "      <th>160</th>\n",
       "      <td>BN161</td>\n",
       "      <td>F</td>\n",
       "      <td>88</td>\n",
       "      <td>Vietnam</td>\n",
       "      <td>Hanoi</td>\n",
       "      <td>Hanoi</td>\n",
       "      <td>Bệnh viện Bệnh nhiệt đới Trung Ương (cơ sở 2)</td>\n",
       "      <td>3/27/20</td>\n",
       "      <td>0</td>\n",
       "      <td>NaN</td>\n",
       "      <td>...</td>\n",
       "      <td>5/5/20</td>\n",
       "      <td>NaN</td>\n",
       "      <td>NaN</td>\n",
       "      <td>https://vnexpress.net/suc-khoe/so-ca-nhiem-nco...</td>\n",
       "      <td>https://vnexpress.net/cu-ba-88-tuoi-khoi-covid...</td>\n",
       "      <td>https://vnexpress.net/suc-khoe/sang-nay-khong-...</td>\n",
       "      <td>https://vnexpress.net/so-ca-nhiem-ncov-len-266...</td>\n",
       "      <td>NaN</td>\n",
       "      <td>NaN</td>\n",
       "      <td>5</td>\n",
       "    </tr>\n",
       "    <tr>\n",
       "      <th>250</th>\n",
       "      <td>BN251</td>\n",
       "      <td>M</td>\n",
       "      <td>64</td>\n",
       "      <td>Vietnam</td>\n",
       "      <td>Ha Nam</td>\n",
       "      <td>Ha Nam</td>\n",
       "      <td>Bệnh viện Đa khoa tỉnh Hà Nam</td>\n",
       "      <td>4/8/20</td>\n",
       "      <td>0</td>\n",
       "      <td>NaN</td>\n",
       "      <td>...</td>\n",
       "      <td>4/17/20</td>\n",
       "      <td>NaN</td>\n",
       "      <td>NaN</td>\n",
       "      <td>https://vnexpress.net/so-ca-nhiem-ncov-len-251...</td>\n",
       "      <td>https://vnexpress.net/them-18-benh-nhan-ra-vie...</td>\n",
       "      <td>https://vnexpress.net/nguoi-da-khoi-benh-covid...</td>\n",
       "      <td>NaN</td>\n",
       "      <td>NaN</td>\n",
       "      <td>Death of underlying conditiion (05/04/2020)</td>\n",
       "      <td>4</td>\n",
       "    </tr>\n",
       "    <tr>\n",
       "      <th>264</th>\n",
       "      <td>BN265</td>\n",
       "      <td>M</td>\n",
       "      <td>26</td>\n",
       "      <td>Vietnam</td>\n",
       "      <td>Ha Tinh</td>\n",
       "      <td>Ha Tinh</td>\n",
       "      <td>Bệnh viện Cầu Treo, Hà Tĩnh</td>\n",
       "      <td>4/13/20</td>\n",
       "      <td>1</td>\n",
       "      <td>Thailand</td>\n",
       "      <td>...</td>\n",
       "      <td>NaN</td>\n",
       "      <td>NaN</td>\n",
       "      <td>NaN</td>\n",
       "      <td>https://vnexpress.net/so-ca-nhiem-ncov-len-265...</td>\n",
       "      <td>https://vnexpress.net/benh-nhan-265-an-han-vi-...</td>\n",
       "      <td>https://vnexpress.net/benh-nhan-ncov-9-lan-xet...</td>\n",
       "      <td>NaN</td>\n",
       "      <td>NaN</td>\n",
       "      <td>Positive after 14 days quarantined (coming bac...</td>\n",
       "      <td>9 times negative/positive</td>\n",
       "    </tr>\n",
       "  </tbody>\n",
       "</table>\n",
       "<p>3 rows × 30 columns</p>\n",
       "</div>"
      ],
      "text/plain": [
       "        ID Gender  Age Nationality Detection Location Treatment Location  \\\n",
       "160  BN161      F   88     Vietnam              Hanoi              Hanoi   \n",
       "250  BN251      M   64     Vietnam             Ha Nam             Ha Nam   \n",
       "264  BN265      M   26     Vietnam            Ha Tinh            Ha Tinh   \n",
       "\n",
       "                                          Hospital Confirmed Date  \\\n",
       "160  Bệnh viện Bệnh nhiệt đới Trung Ương (cơ sở 2)        3/27/20   \n",
       "250                  Bệnh viện Đa khoa tỉnh Hà Nam         4/8/20   \n",
       "264                    Bệnh viện Cầu Treo, Hà Tĩnh        4/13/20   \n",
       "\n",
       "     Travel History Travel Country  ... Discharged Date Re-Infected  \\\n",
       "160               0            NaN  ...          5/5/20         NaN   \n",
       "250               0            NaN  ...         4/17/20         NaN   \n",
       "264               1       Thailand  ...             NaN         NaN   \n",
       "\n",
       "    Re-discharged                                        Reference 1  \\\n",
       "160           NaN  https://vnexpress.net/suc-khoe/so-ca-nhiem-nco...   \n",
       "250           NaN  https://vnexpress.net/so-ca-nhiem-ncov-len-251...   \n",
       "264           NaN  https://vnexpress.net/so-ca-nhiem-ncov-len-265...   \n",
       "\n",
       "                                           Reference 2  \\\n",
       "160  https://vnexpress.net/cu-ba-88-tuoi-khoi-covid...   \n",
       "250  https://vnexpress.net/them-18-benh-nhan-ra-vie...   \n",
       "264  https://vnexpress.net/benh-nhan-265-an-han-vi-...   \n",
       "\n",
       "                                           Reference 3  \\\n",
       "160  https://vnexpress.net/suc-khoe/sang-nay-khong-...   \n",
       "250  https://vnexpress.net/nguoi-da-khoi-benh-covid...   \n",
       "264  https://vnexpress.net/benh-nhan-ncov-9-lan-xet...   \n",
       "\n",
       "                                           Reference 4 Reference 5  \\\n",
       "160  https://vnexpress.net/so-ca-nhiem-ncov-len-266...         NaN   \n",
       "250                                                NaN         NaN   \n",
       "264                                                NaN         NaN   \n",
       "\n",
       "                                                  Note  \\\n",
       "160                                                NaN   \n",
       "250        Death of underlying conditiion (05/04/2020)   \n",
       "264  Positive after 14 days quarantined (coming bac...   \n",
       "\n",
       "    Number of negative test before discharged  \n",
       "160                                         5  \n",
       "250                                         4  \n",
       "264                 9 times negative/positive  \n",
       "\n",
       "[3 rows x 30 columns]"
      ]
     },
     "execution_count": 26,
     "metadata": {},
     "output_type": "execute_result"
    }
   ],
   "source": [
    "selected_rows = trongnuoc[~trongnuoc['Number of negative test before discharged'].isnull()]\n",
    "selected_rows"
   ]
  },
  {
   "cell_type": "code",
   "execution_count": 27,
   "id": "270a263d",
   "metadata": {},
   "outputs": [
    {
     "name": "stderr",
     "output_type": "stream",
     "text": [
      "C:\\Users\\dell\\anaconda3\\lib\\site-packages\\pandas\\core\\frame.py:3191: SettingWithCopyWarning: \n",
      "A value is trying to be set on a copy of a slice from a DataFrame.\n",
      "Try using .loc[row_indexer,col_indexer] = value instead\n",
      "\n",
      "See the caveats in the documentation: https://pandas.pydata.org/pandas-docs/stable/user_guide/indexing.html#returning-a-view-versus-a-copy\n",
      "  self[k1] = value[k2]\n"
     ]
    }
   ],
   "source": [
    "trongnuoc [['Confirmed Date']] = trongnuoc [['Confirmed Date']] .apply(pd.to_datetime);"
   ]
  },
  {
   "cell_type": "code",
   "execution_count": 28,
   "id": "9c91da42",
   "metadata": {},
   "outputs": [],
   "source": [
    "canhiem = trongnuoc[['Confirmed Date']]"
   ]
  },
  {
   "cell_type": "code",
   "execution_count": 29,
   "id": "f442ff5d",
   "metadata": {},
   "outputs": [
    {
     "data": {
      "text/html": [
       "<div>\n",
       "<style scoped>\n",
       "    .dataframe tbody tr th:only-of-type {\n",
       "        vertical-align: middle;\n",
       "    }\n",
       "\n",
       "    .dataframe tbody tr th {\n",
       "        vertical-align: top;\n",
       "    }\n",
       "\n",
       "    .dataframe thead th {\n",
       "        text-align: right;\n",
       "    }\n",
       "</style>\n",
       "<table border=\"1\" class=\"dataframe\">\n",
       "  <thead>\n",
       "    <tr style=\"text-align: right;\">\n",
       "      <th></th>\n",
       "      <th>Confirmed Date</th>\n",
       "    </tr>\n",
       "  </thead>\n",
       "  <tbody>\n",
       "    <tr>\n",
       "      <th>2</th>\n",
       "      <td>2020-01-30</td>\n",
       "    </tr>\n",
       "    <tr>\n",
       "      <th>3</th>\n",
       "      <td>2020-01-30</td>\n",
       "    </tr>\n",
       "    <tr>\n",
       "      <th>4</th>\n",
       "      <td>2020-01-30</td>\n",
       "    </tr>\n",
       "    <tr>\n",
       "      <th>5</th>\n",
       "      <td>2020-02-01</td>\n",
       "    </tr>\n",
       "    <tr>\n",
       "      <th>7</th>\n",
       "      <td>2020-02-03</td>\n",
       "    </tr>\n",
       "    <tr>\n",
       "      <th>...</th>\n",
       "      <td>...</td>\n",
       "    </tr>\n",
       "    <tr>\n",
       "      <th>283</th>\n",
       "      <td>2020-05-07</td>\n",
       "    </tr>\n",
       "    <tr>\n",
       "      <th>284</th>\n",
       "      <td>2020-05-07</td>\n",
       "    </tr>\n",
       "    <tr>\n",
       "      <th>285</th>\n",
       "      <td>2020-05-07</td>\n",
       "    </tr>\n",
       "    <tr>\n",
       "      <th>286</th>\n",
       "      <td>2020-05-07</td>\n",
       "    </tr>\n",
       "    <tr>\n",
       "      <th>287</th>\n",
       "      <td>2020-05-07</td>\n",
       "    </tr>\n",
       "  </tbody>\n",
       "</table>\n",
       "<p>237 rows × 1 columns</p>\n",
       "</div>"
      ],
      "text/plain": [
       "    Confirmed Date\n",
       "2       2020-01-30\n",
       "3       2020-01-30\n",
       "4       2020-01-30\n",
       "5       2020-02-01\n",
       "7       2020-02-03\n",
       "..             ...\n",
       "283     2020-05-07\n",
       "284     2020-05-07\n",
       "285     2020-05-07\n",
       "286     2020-05-07\n",
       "287     2020-05-07\n",
       "\n",
       "[237 rows x 1 columns]"
      ]
     },
     "execution_count": 29,
     "metadata": {},
     "output_type": "execute_result"
    }
   ],
   "source": [
    "canhiem"
   ]
  },
  {
   "cell_type": "code",
   "execution_count": 30,
   "id": "ed6a80a8",
   "metadata": {},
   "outputs": [
    {
     "name": "stderr",
     "output_type": "stream",
     "text": [
      "<ipython-input-30-8e9145bb5eb7>:1: SettingWithCopyWarning: \n",
      "A value is trying to be set on a copy of a slice from a DataFrame.\n",
      "Try using .loc[row_indexer,col_indexer] = value instead\n",
      "\n",
      "See the caveats in the documentation: https://pandas.pydata.org/pandas-docs/stable/user_guide/indexing.html#returning-a-view-versus-a-copy\n",
      "  canhiem[\"so ca\"] = 1\n"
     ]
    }
   ],
   "source": [
    "canhiem[\"so ca\"] = 1"
   ]
  },
  {
   "cell_type": "code",
   "execution_count": 31,
   "id": "f5c55a94",
   "metadata": {},
   "outputs": [
    {
     "data": {
      "text/plain": [
       "(237, 2)"
      ]
     },
     "execution_count": 31,
     "metadata": {},
     "output_type": "execute_result"
    }
   ],
   "source": [
    "canhiem.shape"
   ]
  },
  {
   "cell_type": "code",
   "execution_count": 32,
   "id": "df786adc",
   "metadata": {},
   "outputs": [],
   "source": [
    "canhiem.set_index(\"Confirmed Date\", inplace=True)"
   ]
  },
  {
   "cell_type": "code",
   "execution_count": 33,
   "id": "cf6d41be",
   "metadata": {},
   "outputs": [
    {
     "data": {
      "text/html": [
       "<div>\n",
       "<style scoped>\n",
       "    .dataframe tbody tr th:only-of-type {\n",
       "        vertical-align: middle;\n",
       "    }\n",
       "\n",
       "    .dataframe tbody tr th {\n",
       "        vertical-align: top;\n",
       "    }\n",
       "\n",
       "    .dataframe thead th {\n",
       "        text-align: right;\n",
       "    }\n",
       "</style>\n",
       "<table border=\"1\" class=\"dataframe\">\n",
       "  <thead>\n",
       "    <tr style=\"text-align: right;\">\n",
       "      <th></th>\n",
       "      <th>so ca</th>\n",
       "    </tr>\n",
       "    <tr>\n",
       "      <th>Confirmed Date</th>\n",
       "      <th></th>\n",
       "    </tr>\n",
       "  </thead>\n",
       "  <tbody>\n",
       "    <tr>\n",
       "      <th>2020-01-30</th>\n",
       "      <td>1</td>\n",
       "    </tr>\n",
       "    <tr>\n",
       "      <th>2020-01-30</th>\n",
       "      <td>1</td>\n",
       "    </tr>\n",
       "    <tr>\n",
       "      <th>2020-01-30</th>\n",
       "      <td>1</td>\n",
       "    </tr>\n",
       "    <tr>\n",
       "      <th>2020-02-01</th>\n",
       "      <td>1</td>\n",
       "    </tr>\n",
       "    <tr>\n",
       "      <th>2020-02-03</th>\n",
       "      <td>1</td>\n",
       "    </tr>\n",
       "    <tr>\n",
       "      <th>...</th>\n",
       "      <td>...</td>\n",
       "    </tr>\n",
       "    <tr>\n",
       "      <th>2020-05-07</th>\n",
       "      <td>1</td>\n",
       "    </tr>\n",
       "    <tr>\n",
       "      <th>2020-05-07</th>\n",
       "      <td>1</td>\n",
       "    </tr>\n",
       "    <tr>\n",
       "      <th>2020-05-07</th>\n",
       "      <td>1</td>\n",
       "    </tr>\n",
       "    <tr>\n",
       "      <th>2020-05-07</th>\n",
       "      <td>1</td>\n",
       "    </tr>\n",
       "    <tr>\n",
       "      <th>2020-05-07</th>\n",
       "      <td>1</td>\n",
       "    </tr>\n",
       "  </tbody>\n",
       "</table>\n",
       "<p>237 rows × 1 columns</p>\n",
       "</div>"
      ],
      "text/plain": [
       "                so ca\n",
       "Confirmed Date       \n",
       "2020-01-30          1\n",
       "2020-01-30          1\n",
       "2020-01-30          1\n",
       "2020-02-01          1\n",
       "2020-02-03          1\n",
       "...               ...\n",
       "2020-05-07          1\n",
       "2020-05-07          1\n",
       "2020-05-07          1\n",
       "2020-05-07          1\n",
       "2020-05-07          1\n",
       "\n",
       "[237 rows x 1 columns]"
      ]
     },
     "execution_count": 33,
     "metadata": {},
     "output_type": "execute_result"
    }
   ],
   "source": [
    "canhiem"
   ]
  },
  {
   "cell_type": "code",
   "execution_count": 34,
   "id": "b2ce873f",
   "metadata": {},
   "outputs": [],
   "source": [
    "sapxepcanhiem=canhiem.groupby(['Confirmed Date']).size().to_frame('so ca').reset_index()"
   ]
  },
  {
   "cell_type": "code",
   "execution_count": 35,
   "id": "48c184b3",
   "metadata": {},
   "outputs": [
    {
     "data": {
      "text/html": [
       "<div>\n",
       "<style scoped>\n",
       "    .dataframe tbody tr th:only-of-type {\n",
       "        vertical-align: middle;\n",
       "    }\n",
       "\n",
       "    .dataframe tbody tr th {\n",
       "        vertical-align: top;\n",
       "    }\n",
       "\n",
       "    .dataframe thead th {\n",
       "        text-align: right;\n",
       "    }\n",
       "</style>\n",
       "<table border=\"1\" class=\"dataframe\">\n",
       "  <thead>\n",
       "    <tr style=\"text-align: right;\">\n",
       "      <th></th>\n",
       "      <th>Confirmed Date</th>\n",
       "      <th>so ca</th>\n",
       "    </tr>\n",
       "  </thead>\n",
       "  <tbody>\n",
       "    <tr>\n",
       "      <th>0</th>\n",
       "      <td>2020-01-30</td>\n",
       "      <td>3</td>\n",
       "    </tr>\n",
       "    <tr>\n",
       "      <th>1</th>\n",
       "      <td>2020-02-01</td>\n",
       "      <td>1</td>\n",
       "    </tr>\n",
       "    <tr>\n",
       "      <th>2</th>\n",
       "      <td>2020-02-03</td>\n",
       "      <td>1</td>\n",
       "    </tr>\n",
       "    <tr>\n",
       "      <th>3</th>\n",
       "      <td>2020-02-04</td>\n",
       "      <td>2</td>\n",
       "    </tr>\n",
       "    <tr>\n",
       "      <th>4</th>\n",
       "      <td>2020-02-06</td>\n",
       "      <td>2</td>\n",
       "    </tr>\n",
       "  </tbody>\n",
       "</table>\n",
       "</div>"
      ],
      "text/plain": [
       "  Confirmed Date  so ca\n",
       "0     2020-01-30      3\n",
       "1     2020-02-01      1\n",
       "2     2020-02-03      1\n",
       "3     2020-02-04      2\n",
       "4     2020-02-06      2"
      ]
     },
     "execution_count": 35,
     "metadata": {},
     "output_type": "execute_result"
    }
   ],
   "source": [
    "sapxepcanhiem.head()"
   ]
  },
  {
   "cell_type": "code",
   "execution_count": 36,
   "id": "1d653783",
   "metadata": {},
   "outputs": [],
   "source": [
    "sapxepcanhiem1=sapxepcanhiem.sort_values(by='Confirmed Date', ascending=True)"
   ]
  },
  {
   "cell_type": "markdown",
   "id": "64dbb3d3",
   "metadata": {},
   "source": [
    "#### 4.3 Số ca đỉnh điểm trong ngày "
   ]
  },
  {
   "cell_type": "code",
   "execution_count": 37,
   "id": "0fa258fd",
   "metadata": {},
   "outputs": [
    {
     "data": {
      "text/html": [
       "<div>\n",
       "<style scoped>\n",
       "    .dataframe tbody tr th:only-of-type {\n",
       "        vertical-align: middle;\n",
       "    }\n",
       "\n",
       "    .dataframe tbody tr th {\n",
       "        vertical-align: top;\n",
       "    }\n",
       "\n",
       "    .dataframe thead th {\n",
       "        text-align: right;\n",
       "    }\n",
       "</style>\n",
       "<table border=\"1\" class=\"dataframe\">\n",
       "  <thead>\n",
       "    <tr style=\"text-align: right;\">\n",
       "      <th></th>\n",
       "      <th>Confirmed Date</th>\n",
       "      <th>so ca</th>\n",
       "    </tr>\n",
       "  </thead>\n",
       "  <tbody>\n",
       "    <tr>\n",
       "      <th>0</th>\n",
       "      <td>2020-01-30</td>\n",
       "      <td>3</td>\n",
       "    </tr>\n",
       "    <tr>\n",
       "      <th>1</th>\n",
       "      <td>2020-02-01</td>\n",
       "      <td>1</td>\n",
       "    </tr>\n",
       "    <tr>\n",
       "      <th>2</th>\n",
       "      <td>2020-02-03</td>\n",
       "      <td>1</td>\n",
       "    </tr>\n",
       "    <tr>\n",
       "      <th>3</th>\n",
       "      <td>2020-02-04</td>\n",
       "      <td>2</td>\n",
       "    </tr>\n",
       "    <tr>\n",
       "      <th>4</th>\n",
       "      <td>2020-02-06</td>\n",
       "      <td>2</td>\n",
       "    </tr>\n",
       "  </tbody>\n",
       "</table>\n",
       "</div>"
      ],
      "text/plain": [
       "  Confirmed Date  so ca\n",
       "0     2020-01-30      3\n",
       "1     2020-02-01      1\n",
       "2     2020-02-03      1\n",
       "3     2020-02-04      2\n",
       "4     2020-02-06      2"
      ]
     },
     "execution_count": 37,
     "metadata": {},
     "output_type": "execute_result"
    }
   ],
   "source": [
    "sapxepcanhiem1.head()"
   ]
  },
  {
   "cell_type": "code",
   "execution_count": 38,
   "id": "08d39789",
   "metadata": {},
   "outputs": [
    {
     "name": "stdout",
     "output_type": "stream",
     "text": [
      "2020-05-07 00:00:00\n",
      "2020-01-30 00:00:00\n"
     ]
    }
   ],
   "source": [
    "print(canhiem.index.max())\n",
    "print(canhiem.index.min())"
   ]
  },
  {
   "cell_type": "markdown",
   "id": "1f98746d",
   "metadata": {},
   "source": [
    "plt.figure(figsize=[15,5])\n",
    "sns.lineplot(x = btc_grouped.index , y = 'Close', data = btc_grouped)\n",
    "plt.show()"
   ]
  },
  {
   "cell_type": "code",
   "execution_count": 39,
   "id": "3aaaf169",
   "metadata": {
    "scrolled": true
   },
   "outputs": [
    {
     "data": {
      "image/png": "[encoded data removed]",
      "text/plain": [
       "<Figure size 1440x864 with 1 Axes>"
      ]
     },
     "metadata": {
      "needs_background": "light"
     },
     "output_type": "display_data"
    }
   ],
   "source": [
    "plt.figure(figsize=(20,12))\n",
    "plt.plot(sapxepcanhiem1['Confirmed Date'],sapxepcanhiem1['so ca'],color=\"#ad4073\",marker=\"o\")\n",
    "plt.title('Số ca nhiễm mỗi ngày');"
   ]
  },
  {
   "cell_type": "code",
   "execution_count": 40,
   "id": "33486a73",
   "metadata": {},
   "outputs": [
    {
     "data": {
      "image/png": "[encoded data removed]",
      "text/plain": [
       "<Figure size 720x216 with 1 Axes>"
      ]
     },
     "metadata": {
      "needs_background": "light"
     },
     "output_type": "display_data"
    }
   ],
   "source": [
    "from matplotlib.dates import DateFormatter\n",
    "fig, ax = plt.subplots(figsize  = (10,3))\n",
    "ax.plot(sapxepcanhiem1['Confirmed Date'],sapxepcanhiem1['so ca'] ,marker=\"o\", markersize = 2, color = 'red', markevery=[-1])\n",
    "ax.set_ylim(top = 20)\n",
    "myFmt = DateFormatter('%m/%d')\n",
    "\n",
    "\n",
    "#axis\n",
    "ax.xaxis.set_major_formatter(myFmt)\n",
    "start, end = ax.get_xlim()\n",
    "ax.set_xlim(left = start)\n",
    "ax.set_ylim(top = 20)\n",
    "x_value = np.arange(start, end, 8)\n",
    "ax.xaxis.set_ticks(x_value);\n"
   ]
  },
  {
   "cell_type": "code",
   "execution_count": 41,
   "id": "e8dc8aaf",
   "metadata": {},
   "outputs": [],
   "source": [
    "canhiem2 = trongnuoc[['ID','Age','Confirmed Date', 'Discharged Date']]"
   ]
  },
  {
   "cell_type": "code",
   "execution_count": 42,
   "id": "54f36bb5",
   "metadata": {},
   "outputs": [
    {
     "data": {
      "text/html": [
       "<div>\n",
       "<style scoped>\n",
       "    .dataframe tbody tr th:only-of-type {\n",
       "        vertical-align: middle;\n",
       "    }\n",
       "\n",
       "    .dataframe tbody tr th {\n",
       "        vertical-align: top;\n",
       "    }\n",
       "\n",
       "    .dataframe thead th {\n",
       "        text-align: right;\n",
       "    }\n",
       "</style>\n",
       "<table border=\"1\" class=\"dataframe\">\n",
       "  <thead>\n",
       "    <tr style=\"text-align: right;\">\n",
       "      <th></th>\n",
       "      <th>ID</th>\n",
       "      <th>Age</th>\n",
       "      <th>Confirmed Date</th>\n",
       "      <th>Discharged Date</th>\n",
       "    </tr>\n",
       "  </thead>\n",
       "  <tbody>\n",
       "    <tr>\n",
       "      <th>2</th>\n",
       "      <td>BN3</td>\n",
       "      <td>25</td>\n",
       "      <td>2020-01-30</td>\n",
       "      <td>(Feb 2020, no exact date)</td>\n",
       "    </tr>\n",
       "    <tr>\n",
       "      <th>3</th>\n",
       "      <td>BN4</td>\n",
       "      <td>29</td>\n",
       "      <td>2020-01-30</td>\n",
       "      <td>2/18/20</td>\n",
       "    </tr>\n",
       "    <tr>\n",
       "      <th>4</th>\n",
       "      <td>BN5</td>\n",
       "      <td>23</td>\n",
       "      <td>2020-01-30</td>\n",
       "      <td>2/10/20</td>\n",
       "    </tr>\n",
       "    <tr>\n",
       "      <th>5</th>\n",
       "      <td>BN6</td>\n",
       "      <td>25</td>\n",
       "      <td>2020-02-01</td>\n",
       "      <td>(Feb 2020, no exact date)</td>\n",
       "    </tr>\n",
       "    <tr>\n",
       "      <th>7</th>\n",
       "      <td>BN8</td>\n",
       "      <td>29</td>\n",
       "      <td>2020-02-03</td>\n",
       "      <td>2/10/20</td>\n",
       "    </tr>\n",
       "    <tr>\n",
       "      <th>...</th>\n",
       "      <td>...</td>\n",
       "      <td>...</td>\n",
       "      <td>...</td>\n",
       "      <td>...</td>\n",
       "    </tr>\n",
       "    <tr>\n",
       "      <th>283</th>\n",
       "      <td>BN284</td>\n",
       "      <td>30</td>\n",
       "      <td>2020-05-07</td>\n",
       "      <td>NaN</td>\n",
       "    </tr>\n",
       "    <tr>\n",
       "      <th>284</th>\n",
       "      <td>BN285</td>\n",
       "      <td>30</td>\n",
       "      <td>2020-05-07</td>\n",
       "      <td>NaN</td>\n",
       "    </tr>\n",
       "    <tr>\n",
       "      <th>285</th>\n",
       "      <td>BN286</td>\n",
       "      <td>23</td>\n",
       "      <td>2020-05-07</td>\n",
       "      <td>NaN</td>\n",
       "    </tr>\n",
       "    <tr>\n",
       "      <th>286</th>\n",
       "      <td>BN287</td>\n",
       "      <td>28</td>\n",
       "      <td>2020-05-07</td>\n",
       "      <td>NaN</td>\n",
       "    </tr>\n",
       "    <tr>\n",
       "      <th>287</th>\n",
       "      <td>BN288</td>\n",
       "      <td>32</td>\n",
       "      <td>2020-05-07</td>\n",
       "      <td>NaN</td>\n",
       "    </tr>\n",
       "  </tbody>\n",
       "</table>\n",
       "<p>237 rows × 4 columns</p>\n",
       "</div>"
      ],
      "text/plain": [
       "        ID  Age Confirmed Date            Discharged Date\n",
       "2      BN3   25     2020-01-30  (Feb 2020, no exact date)\n",
       "3      BN4   29     2020-01-30                    2/18/20\n",
       "4      BN5   23     2020-01-30                    2/10/20\n",
       "5      BN6   25     2020-02-01  (Feb 2020, no exact date)\n",
       "7      BN8   29     2020-02-03                    2/10/20\n",
       "..     ...  ...            ...                        ...\n",
       "283  BN284   30     2020-05-07                        NaN\n",
       "284  BN285   30     2020-05-07                        NaN\n",
       "285  BN286   23     2020-05-07                        NaN\n",
       "286  BN287   28     2020-05-07                        NaN\n",
       "287  BN288   32     2020-05-07                        NaN\n",
       "\n",
       "[237 rows x 4 columns]"
      ]
     },
     "execution_count": 42,
     "metadata": {},
     "output_type": "execute_result"
    }
   ],
   "source": [
    "canhiem2"
   ]
  },
  {
   "cell_type": "code",
   "execution_count": 43,
   "id": "63159bed",
   "metadata": {},
   "outputs": [
    {
     "name": "stderr",
     "output_type": "stream",
     "text": [
      "C:\\Users\\dell\\anaconda3\\lib\\site-packages\\pandas\\core\\series.py:4463: SettingWithCopyWarning: \n",
      "A value is trying to be set on a copy of a slice from a DataFrame\n",
      "\n",
      "See the caveats in the documentation: https://pandas.pydata.org/pandas-docs/stable/user_guide/indexing.html#returning-a-view-versus-a-copy\n",
      "  return super().fillna(\n"
     ]
    }
   ],
   "source": [
    "canhiem2[\"Discharged Date\"].fillna(canhiem2[\"Confirmed Date\"], inplace=True)"
   ]
  },
  {
   "cell_type": "code",
   "execution_count": 44,
   "id": "f0b4eac4",
   "metadata": {},
   "outputs": [
    {
     "data": {
      "text/html": [
       "<div>\n",
       "<style scoped>\n",
       "    .dataframe tbody tr th:only-of-type {\n",
       "        vertical-align: middle;\n",
       "    }\n",
       "\n",
       "    .dataframe tbody tr th {\n",
       "        vertical-align: top;\n",
       "    }\n",
       "\n",
       "    .dataframe thead th {\n",
       "        text-align: right;\n",
       "    }\n",
       "</style>\n",
       "<table border=\"1\" class=\"dataframe\">\n",
       "  <thead>\n",
       "    <tr style=\"text-align: right;\">\n",
       "      <th></th>\n",
       "      <th>ID</th>\n",
       "      <th>Age</th>\n",
       "      <th>Confirmed Date</th>\n",
       "      <th>Discharged Date</th>\n",
       "    </tr>\n",
       "  </thead>\n",
       "  <tbody>\n",
       "    <tr>\n",
       "      <th>2</th>\n",
       "      <td>BN3</td>\n",
       "      <td>25</td>\n",
       "      <td>2020-01-30</td>\n",
       "      <td>(Feb 2020, no exact date)</td>\n",
       "    </tr>\n",
       "    <tr>\n",
       "      <th>3</th>\n",
       "      <td>BN4</td>\n",
       "      <td>29</td>\n",
       "      <td>2020-01-30</td>\n",
       "      <td>2/18/20</td>\n",
       "    </tr>\n",
       "    <tr>\n",
       "      <th>4</th>\n",
       "      <td>BN5</td>\n",
       "      <td>23</td>\n",
       "      <td>2020-01-30</td>\n",
       "      <td>2/10/20</td>\n",
       "    </tr>\n",
       "    <tr>\n",
       "      <th>5</th>\n",
       "      <td>BN6</td>\n",
       "      <td>25</td>\n",
       "      <td>2020-02-01</td>\n",
       "      <td>(Feb 2020, no exact date)</td>\n",
       "    </tr>\n",
       "    <tr>\n",
       "      <th>7</th>\n",
       "      <td>BN8</td>\n",
       "      <td>29</td>\n",
       "      <td>2020-02-03</td>\n",
       "      <td>2/10/20</td>\n",
       "    </tr>\n",
       "    <tr>\n",
       "      <th>...</th>\n",
       "      <td>...</td>\n",
       "      <td>...</td>\n",
       "      <td>...</td>\n",
       "      <td>...</td>\n",
       "    </tr>\n",
       "    <tr>\n",
       "      <th>283</th>\n",
       "      <td>BN284</td>\n",
       "      <td>30</td>\n",
       "      <td>2020-05-07</td>\n",
       "      <td>2020-05-07 00:00:00</td>\n",
       "    </tr>\n",
       "    <tr>\n",
       "      <th>284</th>\n",
       "      <td>BN285</td>\n",
       "      <td>30</td>\n",
       "      <td>2020-05-07</td>\n",
       "      <td>2020-05-07 00:00:00</td>\n",
       "    </tr>\n",
       "    <tr>\n",
       "      <th>285</th>\n",
       "      <td>BN286</td>\n",
       "      <td>23</td>\n",
       "      <td>2020-05-07</td>\n",
       "      <td>2020-05-07 00:00:00</td>\n",
       "    </tr>\n",
       "    <tr>\n",
       "      <th>286</th>\n",
       "      <td>BN287</td>\n",
       "      <td>28</td>\n",
       "      <td>2020-05-07</td>\n",
       "      <td>2020-05-07 00:00:00</td>\n",
       "    </tr>\n",
       "    <tr>\n",
       "      <th>287</th>\n",
       "      <td>BN288</td>\n",
       "      <td>32</td>\n",
       "      <td>2020-05-07</td>\n",
       "      <td>2020-05-07 00:00:00</td>\n",
       "    </tr>\n",
       "  </tbody>\n",
       "</table>\n",
       "<p>237 rows × 4 columns</p>\n",
       "</div>"
      ],
      "text/plain": [
       "        ID  Age Confirmed Date            Discharged Date\n",
       "2      BN3   25     2020-01-30  (Feb 2020, no exact date)\n",
       "3      BN4   29     2020-01-30                    2/18/20\n",
       "4      BN5   23     2020-01-30                    2/10/20\n",
       "5      BN6   25     2020-02-01  (Feb 2020, no exact date)\n",
       "7      BN8   29     2020-02-03                    2/10/20\n",
       "..     ...  ...            ...                        ...\n",
       "283  BN284   30     2020-05-07        2020-05-07 00:00:00\n",
       "284  BN285   30     2020-05-07        2020-05-07 00:00:00\n",
       "285  BN286   23     2020-05-07        2020-05-07 00:00:00\n",
       "286  BN287   28     2020-05-07        2020-05-07 00:00:00\n",
       "287  BN288   32     2020-05-07        2020-05-07 00:00:00\n",
       "\n",
       "[237 rows x 4 columns]"
      ]
     },
     "execution_count": 44,
     "metadata": {},
     "output_type": "execute_result"
    }
   ],
   "source": [
    "canhiem2"
   ]
  },
  {
   "cell_type": "code",
   "execution_count": 45,
   "id": "8b45739c",
   "metadata": {},
   "outputs": [
    {
     "name": "stdout",
     "output_type": "stream",
     "text": [
      "<class 'pandas.core.frame.DataFrame'>\n",
      "Int64Index: 237 entries, 2 to 287\n",
      "Data columns (total 4 columns):\n",
      " #   Column           Non-Null Count  Dtype         \n",
      "---  ------           --------------  -----         \n",
      " 0   ID               237 non-null    object        \n",
      " 1   Age              237 non-null    int32         \n",
      " 2   Confirmed Date   237 non-null    datetime64[ns]\n",
      " 3   Discharged Date  237 non-null    object        \n",
      "dtypes: datetime64[ns](1), int32(1), object(2)\n",
      "memory usage: 8.3+ KB\n"
     ]
    }
   ],
   "source": [
    "canhiem2.info()"
   ]
  },
  {
   "cell_type": "code",
   "execution_count": 46,
   "id": "c7d67cee",
   "metadata": {},
   "outputs": [
    {
     "name": "stderr",
     "output_type": "stream",
     "text": [
      "<ipython-input-46-8254d9a8acec>:1: SettingWithCopyWarning: \n",
      "A value is trying to be set on a copy of a slice from a DataFrame.\n",
      "Try using .loc[row_indexer,col_indexer] = value instead\n",
      "\n",
      "See the caveats in the documentation: https://pandas.pydata.org/pandas-docs/stable/user_guide/indexing.html#returning-a-view-versus-a-copy\n",
      "  canhiem2['Discharged Date'] =canhiem2['Discharged Date'].replace(to_replace = r'^\\(',\n"
     ]
    }
   ],
   "source": [
    "canhiem2['Discharged Date'] =canhiem2['Discharged Date'].replace(to_replace = r'^\\(', \n",
    "                                                                value = np.nan, regex = True)"
   ]
  },
  {
   "cell_type": "code",
   "execution_count": 47,
   "id": "9a39aac5",
   "metadata": {},
   "outputs": [
    {
     "data": {
      "text/html": [
       "<div>\n",
       "<style scoped>\n",
       "    .dataframe tbody tr th:only-of-type {\n",
       "        vertical-align: middle;\n",
       "    }\n",
       "\n",
       "    .dataframe tbody tr th {\n",
       "        vertical-align: top;\n",
       "    }\n",
       "\n",
       "    .dataframe thead th {\n",
       "        text-align: right;\n",
       "    }\n",
       "</style>\n",
       "<table border=\"1\" class=\"dataframe\">\n",
       "  <thead>\n",
       "    <tr style=\"text-align: right;\">\n",
       "      <th></th>\n",
       "      <th>ID</th>\n",
       "      <th>Age</th>\n",
       "      <th>Confirmed Date</th>\n",
       "      <th>Discharged Date</th>\n",
       "    </tr>\n",
       "  </thead>\n",
       "  <tbody>\n",
       "    <tr>\n",
       "      <th>2</th>\n",
       "      <td>BN3</td>\n",
       "      <td>25</td>\n",
       "      <td>2020-01-30</td>\n",
       "      <td>NaN</td>\n",
       "    </tr>\n",
       "    <tr>\n",
       "      <th>3</th>\n",
       "      <td>BN4</td>\n",
       "      <td>29</td>\n",
       "      <td>2020-01-30</td>\n",
       "      <td>2/18/20</td>\n",
       "    </tr>\n",
       "    <tr>\n",
       "      <th>4</th>\n",
       "      <td>BN5</td>\n",
       "      <td>23</td>\n",
       "      <td>2020-01-30</td>\n",
       "      <td>2/10/20</td>\n",
       "    </tr>\n",
       "    <tr>\n",
       "      <th>5</th>\n",
       "      <td>BN6</td>\n",
       "      <td>25</td>\n",
       "      <td>2020-02-01</td>\n",
       "      <td>NaN</td>\n",
       "    </tr>\n",
       "    <tr>\n",
       "      <th>7</th>\n",
       "      <td>BN8</td>\n",
       "      <td>29</td>\n",
       "      <td>2020-02-03</td>\n",
       "      <td>2/10/20</td>\n",
       "    </tr>\n",
       "    <tr>\n",
       "      <th>...</th>\n",
       "      <td>...</td>\n",
       "      <td>...</td>\n",
       "      <td>...</td>\n",
       "      <td>...</td>\n",
       "    </tr>\n",
       "    <tr>\n",
       "      <th>283</th>\n",
       "      <td>BN284</td>\n",
       "      <td>30</td>\n",
       "      <td>2020-05-07</td>\n",
       "      <td>2020-05-07 00:00:00</td>\n",
       "    </tr>\n",
       "    <tr>\n",
       "      <th>284</th>\n",
       "      <td>BN285</td>\n",
       "      <td>30</td>\n",
       "      <td>2020-05-07</td>\n",
       "      <td>2020-05-07 00:00:00</td>\n",
       "    </tr>\n",
       "    <tr>\n",
       "      <th>285</th>\n",
       "      <td>BN286</td>\n",
       "      <td>23</td>\n",
       "      <td>2020-05-07</td>\n",
       "      <td>2020-05-07 00:00:00</td>\n",
       "    </tr>\n",
       "    <tr>\n",
       "      <th>286</th>\n",
       "      <td>BN287</td>\n",
       "      <td>28</td>\n",
       "      <td>2020-05-07</td>\n",
       "      <td>2020-05-07 00:00:00</td>\n",
       "    </tr>\n",
       "    <tr>\n",
       "      <th>287</th>\n",
       "      <td>BN288</td>\n",
       "      <td>32</td>\n",
       "      <td>2020-05-07</td>\n",
       "      <td>2020-05-07 00:00:00</td>\n",
       "    </tr>\n",
       "  </tbody>\n",
       "</table>\n",
       "<p>237 rows × 4 columns</p>\n",
       "</div>"
      ],
      "text/plain": [
       "        ID  Age Confirmed Date      Discharged Date\n",
       "2      BN3   25     2020-01-30                  NaN\n",
       "3      BN4   29     2020-01-30              2/18/20\n",
       "4      BN5   23     2020-01-30              2/10/20\n",
       "5      BN6   25     2020-02-01                  NaN\n",
       "7      BN8   29     2020-02-03              2/10/20\n",
       "..     ...  ...            ...                  ...\n",
       "283  BN284   30     2020-05-07  2020-05-07 00:00:00\n",
       "284  BN285   30     2020-05-07  2020-05-07 00:00:00\n",
       "285  BN286   23     2020-05-07  2020-05-07 00:00:00\n",
       "286  BN287   28     2020-05-07  2020-05-07 00:00:00\n",
       "287  BN288   32     2020-05-07  2020-05-07 00:00:00\n",
       "\n",
       "[237 rows x 4 columns]"
      ]
     },
     "execution_count": 47,
     "metadata": {},
     "output_type": "execute_result"
    }
   ],
   "source": [
    "canhiem2"
   ]
  },
  {
   "cell_type": "code",
   "execution_count": 48,
   "id": "6010b2d4",
   "metadata": {},
   "outputs": [
    {
     "name": "stderr",
     "output_type": "stream",
     "text": [
      "C:\\Users\\dell\\anaconda3\\lib\\site-packages\\pandas\\core\\series.py:4463: SettingWithCopyWarning: \n",
      "A value is trying to be set on a copy of a slice from a DataFrame\n",
      "\n",
      "See the caveats in the documentation: https://pandas.pydata.org/pandas-docs/stable/user_guide/indexing.html#returning-a-view-versus-a-copy\n",
      "  return super().fillna(\n",
      "C:\\Users\\dell\\anaconda3\\lib\\site-packages\\pandas\\core\\frame.py:3191: SettingWithCopyWarning: \n",
      "A value is trying to be set on a copy of a slice from a DataFrame.\n",
      "Try using .loc[row_indexer,col_indexer] = value instead\n",
      "\n",
      "See the caveats in the documentation: https://pandas.pydata.org/pandas-docs/stable/user_guide/indexing.html#returning-a-view-versus-a-copy\n",
      "  self[k1] = value[k2]\n"
     ]
    }
   ],
   "source": [
    "canhiem2[\"Discharged Date\"].fillna(canhiem2[\"Confirmed Date\"], inplace=True)\n",
    "canhiem2 [['Discharged Date']] = canhiem2 [['Discharged Date']] .apply(pd.to_datetime)"
   ]
  },
  {
   "cell_type": "code",
   "execution_count": 49,
   "id": "43f75255",
   "metadata": {},
   "outputs": [
    {
     "name": "stderr",
     "output_type": "stream",
     "text": [
      "<ipython-input-49-0f9c2e784495>:1: SettingWithCopyWarning: \n",
      "A value is trying to be set on a copy of a slice from a DataFrame.\n",
      "Try using .loc[row_indexer,col_indexer] = value instead\n",
      "\n",
      "See the caveats in the documentation: https://pandas.pydata.org/pandas-docs/stable/user_guide/indexing.html#returning-a-view-versus-a-copy\n",
      "  canhiem2 ['So ngay dieu tri']  = canhiem2['Discharged Date'] - canhiem2['Confirmed Date']\n"
     ]
    }
   ],
   "source": [
    "canhiem2 ['So ngay dieu tri']  = canhiem2['Discharged Date'] - canhiem2['Confirmed Date']"
   ]
  },
  {
   "cell_type": "code",
   "execution_count": 50,
   "id": "a182014b",
   "metadata": {},
   "outputs": [
    {
     "data": {
      "text/html": [
       "<div>\n",
       "<style scoped>\n",
       "    .dataframe tbody tr th:only-of-type {\n",
       "        vertical-align: middle;\n",
       "    }\n",
       "\n",
       "    .dataframe tbody tr th {\n",
       "        vertical-align: top;\n",
       "    }\n",
       "\n",
       "    .dataframe thead th {\n",
       "        text-align: right;\n",
       "    }\n",
       "</style>\n",
       "<table border=\"1\" class=\"dataframe\">\n",
       "  <thead>\n",
       "    <tr style=\"text-align: right;\">\n",
       "      <th></th>\n",
       "      <th>ID</th>\n",
       "      <th>Age</th>\n",
       "      <th>Confirmed Date</th>\n",
       "      <th>Discharged Date</th>\n",
       "      <th>So ngay dieu tri</th>\n",
       "    </tr>\n",
       "  </thead>\n",
       "  <tbody>\n",
       "    <tr>\n",
       "      <th>2</th>\n",
       "      <td>BN3</td>\n",
       "      <td>25</td>\n",
       "      <td>2020-01-30</td>\n",
       "      <td>2020-01-30</td>\n",
       "      <td>0 days</td>\n",
       "    </tr>\n",
       "    <tr>\n",
       "      <th>3</th>\n",
       "      <td>BN4</td>\n",
       "      <td>29</td>\n",
       "      <td>2020-01-30</td>\n",
       "      <td>2020-02-18</td>\n",
       "      <td>19 days</td>\n",
       "    </tr>\n",
       "    <tr>\n",
       "      <th>4</th>\n",
       "      <td>BN5</td>\n",
       "      <td>23</td>\n",
       "      <td>2020-01-30</td>\n",
       "      <td>2020-02-10</td>\n",
       "      <td>11 days</td>\n",
       "    </tr>\n",
       "    <tr>\n",
       "      <th>5</th>\n",
       "      <td>BN6</td>\n",
       "      <td>25</td>\n",
       "      <td>2020-02-01</td>\n",
       "      <td>2020-02-01</td>\n",
       "      <td>0 days</td>\n",
       "    </tr>\n",
       "    <tr>\n",
       "      <th>7</th>\n",
       "      <td>BN8</td>\n",
       "      <td>29</td>\n",
       "      <td>2020-02-03</td>\n",
       "      <td>2020-02-10</td>\n",
       "      <td>7 days</td>\n",
       "    </tr>\n",
       "    <tr>\n",
       "      <th>...</th>\n",
       "      <td>...</td>\n",
       "      <td>...</td>\n",
       "      <td>...</td>\n",
       "      <td>...</td>\n",
       "      <td>...</td>\n",
       "    </tr>\n",
       "    <tr>\n",
       "      <th>283</th>\n",
       "      <td>BN284</td>\n",
       "      <td>30</td>\n",
       "      <td>2020-05-07</td>\n",
       "      <td>2020-05-07</td>\n",
       "      <td>0 days</td>\n",
       "    </tr>\n",
       "    <tr>\n",
       "      <th>284</th>\n",
       "      <td>BN285</td>\n",
       "      <td>30</td>\n",
       "      <td>2020-05-07</td>\n",
       "      <td>2020-05-07</td>\n",
       "      <td>0 days</td>\n",
       "    </tr>\n",
       "    <tr>\n",
       "      <th>285</th>\n",
       "      <td>BN286</td>\n",
       "      <td>23</td>\n",
       "      <td>2020-05-07</td>\n",
       "      <td>2020-05-07</td>\n",
       "      <td>0 days</td>\n",
       "    </tr>\n",
       "    <tr>\n",
       "      <th>286</th>\n",
       "      <td>BN287</td>\n",
       "      <td>28</td>\n",
       "      <td>2020-05-07</td>\n",
       "      <td>2020-05-07</td>\n",
       "      <td>0 days</td>\n",
       "    </tr>\n",
       "    <tr>\n",
       "      <th>287</th>\n",
       "      <td>BN288</td>\n",
       "      <td>32</td>\n",
       "      <td>2020-05-07</td>\n",
       "      <td>2020-05-07</td>\n",
       "      <td>0 days</td>\n",
       "    </tr>\n",
       "  </tbody>\n",
       "</table>\n",
       "<p>237 rows × 5 columns</p>\n",
       "</div>"
      ],
      "text/plain": [
       "        ID  Age Confirmed Date Discharged Date So ngay dieu tri\n",
       "2      BN3   25     2020-01-30      2020-01-30           0 days\n",
       "3      BN4   29     2020-01-30      2020-02-18          19 days\n",
       "4      BN5   23     2020-01-30      2020-02-10          11 days\n",
       "5      BN6   25     2020-02-01      2020-02-01           0 days\n",
       "7      BN8   29     2020-02-03      2020-02-10           7 days\n",
       "..     ...  ...            ...             ...              ...\n",
       "283  BN284   30     2020-05-07      2020-05-07           0 days\n",
       "284  BN285   30     2020-05-07      2020-05-07           0 days\n",
       "285  BN286   23     2020-05-07      2020-05-07           0 days\n",
       "286  BN287   28     2020-05-07      2020-05-07           0 days\n",
       "287  BN288   32     2020-05-07      2020-05-07           0 days\n",
       "\n",
       "[237 rows x 5 columns]"
      ]
     },
     "execution_count": 50,
     "metadata": {},
     "output_type": "execute_result"
    }
   ],
   "source": [
    "canhiem2"
   ]
  },
  {
   "cell_type": "code",
   "execution_count": 51,
   "id": "c6401b04",
   "metadata": {},
   "outputs": [],
   "source": [
    "songaydieutri =canhiem2.loc [canhiem2['So ngay dieu tri'] != '0 days']\n",
    "khongco = canhiem2.loc [canhiem2['So ngay dieu tri'] == '0 days']"
   ]
  },
  {
   "cell_type": "code",
   "execution_count": 52,
   "id": "50143972",
   "metadata": {},
   "outputs": [
    {
     "data": {
      "text/plain": [
       "166"
      ]
     },
     "execution_count": 52,
     "metadata": {},
     "output_type": "execute_result"
    }
   ],
   "source": [
    "len(songaydieutri)"
   ]
  },
  {
   "cell_type": "code",
   "execution_count": 53,
   "id": "dcec1abf",
   "metadata": {},
   "outputs": [
    {
     "data": {
      "text/plain": [
       "Text(0.5, 1.0, 'Tỷ lệ người báo cáo số ngày điều trị')"
      ]
     },
     "execution_count": 53,
     "metadata": {},
     "output_type": "execute_result"
    },
    {
     "data": {
      "image/png": "[encoded data removed]",
      "text/plain": [
       "<Figure size 504x504 with 1 Axes>"
      ]
     },
     "metadata": {},
     "output_type": "display_data"
    }
   ],
   "source": [
    "df2 = [len(songaydieutri), len(khongco)]\n",
    "labels = ['Số bệnh nhân báo cáo số ngày điều trị','Số bệnh nhân không báo cáo số ngày điều trị']\n",
    "fig, ax = plt.subplots(figsize = (7,7))\n",
    "ax.pie( df2, labels = labels, autopct='%1.1f%%',\n",
    "        shadow=False,explode = (0, 0.14), startangle=90);\n",
    "plt.title('Tỷ lệ người báo cáo số ngày điều trị')"
   ]
  },
  {
   "cell_type": "markdown",
   "id": "15367af2",
   "metadata": {},
   "source": [
    "#### 4.4 Số ngày điều trị"
   ]
  },
  {
   "cell_type": "code",
   "execution_count": 54,
   "id": "bca0dd47",
   "metadata": {},
   "outputs": [
    {
     "data": {
      "text/html": [
       "<div>\n",
       "<style scoped>\n",
       "    .dataframe tbody tr th:only-of-type {\n",
       "        vertical-align: middle;\n",
       "    }\n",
       "\n",
       "    .dataframe tbody tr th {\n",
       "        vertical-align: top;\n",
       "    }\n",
       "\n",
       "    .dataframe thead th {\n",
       "        text-align: right;\n",
       "    }\n",
       "</style>\n",
       "<table border=\"1\" class=\"dataframe\">\n",
       "  <thead>\n",
       "    <tr style=\"text-align: right;\">\n",
       "      <th></th>\n",
       "      <th>ID</th>\n",
       "      <th>Age</th>\n",
       "      <th>Confirmed Date</th>\n",
       "      <th>Discharged Date</th>\n",
       "      <th>So ngay dieu tri</th>\n",
       "    </tr>\n",
       "  </thead>\n",
       "  <tbody>\n",
       "    <tr>\n",
       "      <th>3</th>\n",
       "      <td>BN4</td>\n",
       "      <td>29</td>\n",
       "      <td>2020-01-30</td>\n",
       "      <td>2020-02-18</td>\n",
       "      <td>19 days</td>\n",
       "    </tr>\n",
       "    <tr>\n",
       "      <th>4</th>\n",
       "      <td>BN5</td>\n",
       "      <td>23</td>\n",
       "      <td>2020-01-30</td>\n",
       "      <td>2020-02-10</td>\n",
       "      <td>11 days</td>\n",
       "    </tr>\n",
       "    <tr>\n",
       "      <th>7</th>\n",
       "      <td>BN8</td>\n",
       "      <td>29</td>\n",
       "      <td>2020-02-03</td>\n",
       "      <td>2020-02-10</td>\n",
       "      <td>7 days</td>\n",
       "    </tr>\n",
       "    <tr>\n",
       "      <th>8</th>\n",
       "      <td>BN9</td>\n",
       "      <td>30</td>\n",
       "      <td>2020-02-04</td>\n",
       "      <td>2020-02-10</td>\n",
       "      <td>6 days</td>\n",
       "    </tr>\n",
       "    <tr>\n",
       "      <th>10</th>\n",
       "      <td>BN11</td>\n",
       "      <td>49</td>\n",
       "      <td>2020-02-06</td>\n",
       "      <td>2020-02-20</td>\n",
       "      <td>14 days</td>\n",
       "    </tr>\n",
       "    <tr>\n",
       "      <th>...</th>\n",
       "      <td>...</td>\n",
       "      <td>...</td>\n",
       "      <td>...</td>\n",
       "      <td>...</td>\n",
       "      <td>...</td>\n",
       "    </tr>\n",
       "    <tr>\n",
       "      <th>251</th>\n",
       "      <td>BN252</td>\n",
       "      <td>6</td>\n",
       "      <td>2020-04-09</td>\n",
       "      <td>2020-04-22</td>\n",
       "      <td>13 days</td>\n",
       "    </tr>\n",
       "    <tr>\n",
       "      <th>254</th>\n",
       "      <td>BN255</td>\n",
       "      <td>29</td>\n",
       "      <td>2020-04-09</td>\n",
       "      <td>2020-05-05</td>\n",
       "      <td>26 days</td>\n",
       "    </tr>\n",
       "    <tr>\n",
       "      <th>265</th>\n",
       "      <td>BN266</td>\n",
       "      <td>36</td>\n",
       "      <td>2020-04-14</td>\n",
       "      <td>2020-04-22</td>\n",
       "      <td>8 days</td>\n",
       "    </tr>\n",
       "    <tr>\n",
       "      <th>266</th>\n",
       "      <td>BN267</td>\n",
       "      <td>46</td>\n",
       "      <td>2020-04-15</td>\n",
       "      <td>2020-05-05</td>\n",
       "      <td>20 days</td>\n",
       "    </tr>\n",
       "    <tr>\n",
       "      <th>267</th>\n",
       "      <td>BN268</td>\n",
       "      <td>16</td>\n",
       "      <td>2020-04-16</td>\n",
       "      <td>2020-04-30</td>\n",
       "      <td>14 days</td>\n",
       "    </tr>\n",
       "  </tbody>\n",
       "</table>\n",
       "<p>166 rows × 5 columns</p>\n",
       "</div>"
      ],
      "text/plain": [
       "        ID  Age Confirmed Date Discharged Date So ngay dieu tri\n",
       "3      BN4   29     2020-01-30      2020-02-18          19 days\n",
       "4      BN5   23     2020-01-30      2020-02-10          11 days\n",
       "7      BN8   29     2020-02-03      2020-02-10           7 days\n",
       "8      BN9   30     2020-02-04      2020-02-10           6 days\n",
       "10    BN11   49     2020-02-06      2020-02-20          14 days\n",
       "..     ...  ...            ...             ...              ...\n",
       "251  BN252    6     2020-04-09      2020-04-22          13 days\n",
       "254  BN255   29     2020-04-09      2020-05-05          26 days\n",
       "265  BN266   36     2020-04-14      2020-04-22           8 days\n",
       "266  BN267   46     2020-04-15      2020-05-05          20 days\n",
       "267  BN268   16     2020-04-16      2020-04-30          14 days\n",
       "\n",
       "[166 rows x 5 columns]"
      ]
     },
     "execution_count": 54,
     "metadata": {},
     "output_type": "execute_result"
    }
   ],
   "source": [
    "songaydieutri"
   ]
  },
  {
   "cell_type": "code",
   "execution_count": 55,
   "id": "c9a55078",
   "metadata": {},
   "outputs": [],
   "source": [
    "songaydieutri1 =songaydieutri.sort_values('Age')"
   ]
  },
  {
   "cell_type": "code",
   "execution_count": 56,
   "id": "5df53109",
   "metadata": {},
   "outputs": [
    {
     "data": {
      "text/html": [
       "<div>\n",
       "<style scoped>\n",
       "    .dataframe tbody tr th:only-of-type {\n",
       "        vertical-align: middle;\n",
       "    }\n",
       "\n",
       "    .dataframe tbody tr th {\n",
       "        vertical-align: top;\n",
       "    }\n",
       "\n",
       "    .dataframe thead th {\n",
       "        text-align: right;\n",
       "    }\n",
       "</style>\n",
       "<table border=\"1\" class=\"dataframe\">\n",
       "  <thead>\n",
       "    <tr style=\"text-align: right;\">\n",
       "      <th></th>\n",
       "      <th>ID</th>\n",
       "      <th>Age</th>\n",
       "      <th>Confirmed Date</th>\n",
       "      <th>Discharged Date</th>\n",
       "      <th>So ngay dieu tri</th>\n",
       "    </tr>\n",
       "  </thead>\n",
       "  <tbody>\n",
       "    <tr>\n",
       "      <th>14</th>\n",
       "      <td>BN15</td>\n",
       "      <td>0</td>\n",
       "      <td>2020-02-11</td>\n",
       "      <td>2020-02-20</td>\n",
       "      <td>9 days</td>\n",
       "    </tr>\n",
       "    <tr>\n",
       "      <th>39</th>\n",
       "      <td>BN40</td>\n",
       "      <td>2</td>\n",
       "      <td>2020-03-12</td>\n",
       "      <td>2020-04-03</td>\n",
       "      <td>22 days</td>\n",
       "    </tr>\n",
       "    <tr>\n",
       "      <th>251</th>\n",
       "      <td>BN252</td>\n",
       "      <td>6</td>\n",
       "      <td>2020-04-09</td>\n",
       "      <td>2020-04-22</td>\n",
       "      <td>13 days</td>\n",
       "    </tr>\n",
       "    <tr>\n",
       "      <th>101</th>\n",
       "      <td>BN102</td>\n",
       "      <td>9</td>\n",
       "      <td>2020-03-22</td>\n",
       "      <td>2020-04-07</td>\n",
       "      <td>16 days</td>\n",
       "    </tr>\n",
       "    <tr>\n",
       "      <th>203</th>\n",
       "      <td>BN204</td>\n",
       "      <td>10</td>\n",
       "      <td>2020-03-31</td>\n",
       "      <td>2020-04-10</td>\n",
       "      <td>10 days</td>\n",
       "    </tr>\n",
       "    <tr>\n",
       "      <th>...</th>\n",
       "      <td>...</td>\n",
       "      <td>...</td>\n",
       "      <td>...</td>\n",
       "      <td>...</td>\n",
       "      <td>...</td>\n",
       "    </tr>\n",
       "    <tr>\n",
       "      <th>132</th>\n",
       "      <td>BN133</td>\n",
       "      <td>66</td>\n",
       "      <td>2020-03-24</td>\n",
       "      <td>2020-04-17</td>\n",
       "      <td>24 days</td>\n",
       "    </tr>\n",
       "    <tr>\n",
       "      <th>231</th>\n",
       "      <td>BN232</td>\n",
       "      <td>67</td>\n",
       "      <td>2020-04-03</td>\n",
       "      <td>2020-04-14</td>\n",
       "      <td>11 days</td>\n",
       "    </tr>\n",
       "    <tr>\n",
       "      <th>233</th>\n",
       "      <td>BN234</td>\n",
       "      <td>69</td>\n",
       "      <td>2020-04-03</td>\n",
       "      <td>2020-04-09</td>\n",
       "      <td>6 days</td>\n",
       "    </tr>\n",
       "    <tr>\n",
       "      <th>238</th>\n",
       "      <td>BN239</td>\n",
       "      <td>71</td>\n",
       "      <td>2020-04-04</td>\n",
       "      <td>2020-04-14</td>\n",
       "      <td>10 days</td>\n",
       "    </tr>\n",
       "    <tr>\n",
       "      <th>160</th>\n",
       "      <td>BN161</td>\n",
       "      <td>88</td>\n",
       "      <td>2020-03-27</td>\n",
       "      <td>2020-05-05</td>\n",
       "      <td>39 days</td>\n",
       "    </tr>\n",
       "  </tbody>\n",
       "</table>\n",
       "<p>166 rows × 5 columns</p>\n",
       "</div>"
      ],
      "text/plain": [
       "        ID  Age Confirmed Date Discharged Date So ngay dieu tri\n",
       "14    BN15    0     2020-02-11      2020-02-20           9 days\n",
       "39    BN40    2     2020-03-12      2020-04-03          22 days\n",
       "251  BN252    6     2020-04-09      2020-04-22          13 days\n",
       "101  BN102    9     2020-03-22      2020-04-07          16 days\n",
       "203  BN204   10     2020-03-31      2020-04-10          10 days\n",
       "..     ...  ...            ...             ...              ...\n",
       "132  BN133   66     2020-03-24      2020-04-17          24 days\n",
       "231  BN232   67     2020-04-03      2020-04-14          11 days\n",
       "233  BN234   69     2020-04-03      2020-04-09           6 days\n",
       "238  BN239   71     2020-04-04      2020-04-14          10 days\n",
       "160  BN161   88     2020-03-27      2020-05-05          39 days\n",
       "\n",
       "[166 rows x 5 columns]"
      ]
     },
     "execution_count": 56,
     "metadata": {},
     "output_type": "execute_result"
    }
   ],
   "source": [
    "songaydieutri1"
   ]
  },
  {
   "cell_type": "markdown",
   "id": "73c90bdb",
   "metadata": {},
   "source": [
    "### 5. Kết Luận"
   ]
  },
  {
   "cell_type": "markdown",
   "id": "2ec4bb1e",
   "metadata": {},
   "source": [
    "Sau quá trình phân tích đã tổng hợp được số liệu sau đây về Covid 19 tại Việt Nam:\n",
    "- Tỉ lệ mắc là nam cao hơn nữ\n",
    "- Độ tuổi nhiễm là 25 tuổi\n",
    "- Số ca nhiễm của người quốc tịch Việt Nam: 237 người\n",
    "- Số ca nhiễm của người Anh : 21 người\n",
    "- Số ca nhiễm của người Brazil : 6 người\n",
    "- Số ca nhiễm của người Mỹ: 5 người\n",
    "- Số ca nhiễm của người Germany: 4 người\n",
    "- Các tỉnh có ca mắc nhiều nhất là: Hà Nội (99), Hồ Chí Minh (32), Vĩnh Phúc(19), Cần Thơ(19)\n",
    "- Số ca chuyển biến nặng là: 3\n",
    "Vậy số ca nhiễm covid đã dần tăng mọi người cần chú đeo khẩu trang, thực hiện các biện pháp 5K của bộ y tế để bảo vệ sức khỏe"
   ]
  },
  {
   "cell_type": "code",
   "execution_count": null,
   "id": "4f30618d",
   "metadata": {},
   "outputs": [],
   "source": []
  }
 ],
 "metadata": {
  "kernelspec": {
   "display_name": "Python 3",
   "language": "python",
   "name": "python3"
  },
  "language_info": {
   "codemirror_mode": {
    "name": "ipython",
    "version": 3
   },
   "file_extension": ".py",
   "mimetype": "text/x-python",
   "name": "python",
   "nbconvert_exporter": "python",
   "pygments_lexer": "ipython3",
   "version": "3.8.8"
  }
 },
 "nbformat": 4,
 "nbformat_minor": 5
}
